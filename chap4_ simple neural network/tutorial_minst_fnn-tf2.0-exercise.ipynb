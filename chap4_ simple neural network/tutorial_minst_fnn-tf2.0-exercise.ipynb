{
 "cells": [
  {
   "cell_type": "markdown",
   "metadata": {},
   "source": [
    "## 准备数据"
   ]
  },
  {
   "cell_type": "code",
   "execution_count": 1,
   "metadata": {},
   "outputs": [],
   "source": [
    "import os\n",
    "import numpy as np\n",
    "import tensorflow as tf\n",
    "from tensorflow import keras\n",
    "from tensorflow.keras import layers, optimizers, datasets\n",
    "\n",
    "os.environ['TF_CPP_MIN_LOG_LEVEL'] = '2'  # or any {'0', '1', '2'}\n",
    "\n",
    "def mnist_dataset():\n",
    "    (x, y), (x_test, y_test) = datasets.mnist.load_data()\n",
    "    #normalize\n",
    "    x = x/255.0\n",
    "    x_test = x_test/255.0\n",
    "    \n",
    "    return (x, y), (x_test, y_test)"
   ]
  },
  {
   "cell_type": "code",
   "execution_count": 2,
   "metadata": {},
   "outputs": [
    {
     "name": "stdout",
     "output_type": "stream",
     "text": [
      "[(1, 'a'), (2, 'b'), (3, 'c'), (4, 'd')]\n"
     ]
    }
   ],
   "source": [
    "print(list(zip([1, 2, 3, 4], ['a', 'b', 'c', 'd'])))"
   ]
  },
  {
   "cell_type": "markdown",
   "metadata": {},
   "source": [
    "## 建立模型"
   ]
  },
  {
   "cell_type": "code",
   "execution_count": 3,
   "metadata": {},
   "outputs": [],
   "source": [
    "class myModel:\n",
    "    def __init__(self):\n",
    "        ####################\n",
    "        '''声明模型对应的参数'''\n",
    "        ####################\n",
    "        self.W1 = tf.Variable(tf.random.normal(shape=(784, 256)), trainable=True)\n",
    "        self.W2 = tf.Variable(tf.random.normal(shape=(256, 10)), trainable=True)\n",
    "        self.b1 = tf.Variable(tf.random.normal(shape=(256,)), trainable=True)\n",
    "        self.b2 = tf.Variable(tf.random.normal(shape=(10,)), trainable=True)\n",
    "    def __call__(self, x):\n",
    "        ####################\n",
    "        '''实现模型函数体，返回未归一化的logits'''\n",
    "        ####################\n",
    "        x_reshape = tf.reshape(x, shape=(x.shape[0], 784))\n",
    "\n",
    "        logits = tf.matmul(tf.nn.softmax(tf.matmul(x_reshape, self.W1) + self.b1), self.W2) + self.b2\n",
    "        return logits\n",
    "        \n",
    "model = myModel()\n",
    "\n",
    "optimizer = optimizers.Adam()"
   ]
  },
  {
   "cell_type": "markdown",
   "metadata": {},
   "source": [
    "## 计算 loss"
   ]
  },
  {
   "cell_type": "code",
   "execution_count": 5,
   "metadata": {},
   "outputs": [],
   "source": [
    "@tf.function\n",
    "def compute_loss(logits, labels):\n",
    "    return tf.reduce_mean(\n",
    "        tf.nn.sparse_softmax_cross_entropy_with_logits(\n",
    "            logits=logits, labels=labels))\n",
    "\n",
    "@tf.function\n",
    "def compute_accuracy(logits, labels):\n",
    "    predictions = tf.argmax(logits, axis=1)\n",
    "    return tf.reduce_mean(tf.cast(tf.equal(predictions, labels), tf.float32))\n",
    "\n",
    "@tf.function\n",
    "def train_one_step(model, optimizer, x, y):\n",
    "    with tf.GradientTape() as tape:\n",
    "        logits = model(x)\n",
    "        loss = compute_loss(logits, y)\n",
    "\n",
    "    # compute gradient\n",
    "    trainable_vars = [model.W1, model.W2, model.b1, model.b2]\n",
    "    grads = tape.gradient(loss, trainable_vars)\n",
    "    for g, v in zip(grads, trainable_vars):\n",
    "        v.assign_sub(0.01*g)\n",
    "\n",
    "    accuracy = compute_accuracy(logits, y)\n",
    "\n",
    "    # loss and accuracy is scalar tensor\n",
    "    return loss, accuracy\n",
    "\n",
    "@tf.function\n",
    "def test(model, x, y):\n",
    "    logits = model(x)\n",
    "    loss = compute_loss(logits, y)\n",
    "    accuracy = compute_accuracy(logits, y)\n",
    "    return loss, accuracy"
   ]
  },
  {
   "cell_type": "markdown",
   "metadata": {},
   "source": [
    "## 实际训练"
   ]
  },
  {
   "cell_type": "code",
   "execution_count": 6,
   "metadata": {},
   "outputs": [
    {
     "name": "stdout",
     "output_type": "stream",
     "text": [
      "epoch 0 : loss 2.7430954 ; accuracy 0.09596667\n",
      "epoch 1 : loss 2.7424603 ; accuracy 0.09616667\n",
      "epoch 2 : loss 2.7418265 ; accuracy 0.09618333\n",
      "epoch 3 : loss 2.7411945 ; accuracy 0.09628333\n",
      "epoch 4 : loss 2.740564 ; accuracy 0.096366666\n",
      "epoch 5 : loss 2.7399354 ; accuracy 0.09645\n",
      "epoch 6 : loss 2.739308 ; accuracy 0.096483335\n",
      "epoch 7 : loss 2.7386823 ; accuracy 0.0965\n",
      "epoch 8 : loss 2.738058 ; accuracy 0.09685\n",
      "epoch 9 : loss 2.7374353 ; accuracy 0.09705\n",
      "epoch 10 : loss 2.736814 ; accuracy 0.09706666\n",
      "epoch 11 : loss 2.7361948 ; accuracy 0.097216666\n",
      "epoch 12 : loss 2.7355766 ; accuracy 0.097566664\n",
      "epoch 13 : loss 2.7349598 ; accuracy 0.097783335\n",
      "epoch 14 : loss 2.7343447 ; accuracy 0.09786667\n",
      "epoch 15 : loss 2.7337313 ; accuracy 0.098\n",
      "epoch 16 : loss 2.7331192 ; accuracy 0.098183334\n",
      "epoch 17 : loss 2.7325087 ; accuracy 0.09836667\n",
      "epoch 18 : loss 2.7318993 ; accuracy 0.098516665\n",
      "epoch 19 : loss 2.7312913 ; accuracy 0.09861667\n",
      "epoch 20 : loss 2.7306855 ; accuracy 0.09876667\n",
      "epoch 21 : loss 2.7300808 ; accuracy 0.0987\n",
      "epoch 22 : loss 2.7294774 ; accuracy 0.0988\n",
      "epoch 23 : loss 2.728875 ; accuracy 0.0988\n",
      "epoch 24 : loss 2.7282748 ; accuracy 0.098966666\n",
      "epoch 25 : loss 2.7276754 ; accuracy 0.099133335\n",
      "epoch 26 : loss 2.7270782 ; accuracy 0.099316664\n",
      "epoch 27 : loss 2.7264817 ; accuracy 0.09943333\n",
      "epoch 28 : loss 2.725887 ; accuracy 0.09946667\n",
      "epoch 29 : loss 2.7252934 ; accuracy 0.09951667\n",
      "epoch 30 : loss 2.7247016 ; accuracy 0.099766664\n",
      "epoch 31 : loss 2.7241108 ; accuracy 0.10045\n",
      "epoch 32 : loss 2.7235217 ; accuracy 0.10096667\n",
      "epoch 33 : loss 2.7229335 ; accuracy 0.101283334\n",
      "epoch 34 : loss 2.7223475 ; accuracy 0.106916666\n",
      "epoch 35 : loss 2.721762 ; accuracy 0.108333334\n",
      "epoch 36 : loss 2.721178 ; accuracy 0.109183334\n",
      "epoch 37 : loss 2.7205958 ; accuracy 0.109633334\n",
      "epoch 38 : loss 2.7200146 ; accuracy 0.110133335\n",
      "epoch 39 : loss 2.719435 ; accuracy 0.110366665\n",
      "epoch 40 : loss 2.7188566 ; accuracy 0.11083333\n",
      "epoch 41 : loss 2.7182794 ; accuracy 0.11101667\n",
      "epoch 42 : loss 2.7177033 ; accuracy 0.1113\n",
      "epoch 43 : loss 2.717129 ; accuracy 0.11153334\n",
      "epoch 44 : loss 2.7165558 ; accuracy 0.11173333\n",
      "epoch 45 : loss 2.715984 ; accuracy 0.111933336\n",
      "epoch 46 : loss 2.7154133 ; accuracy 0.11226667\n",
      "epoch 47 : loss 2.7148442 ; accuracy 0.11258333\n",
      "epoch 48 : loss 2.714276 ; accuracy 0.11271667\n",
      "epoch 49 : loss 2.7137094 ; accuracy 0.11281667\n",
      "test loss 2.7044601 ; accuracy 0.1194\n"
     ]
    }
   ],
   "source": [
    "train_data, test_data = mnist_dataset()\n",
    "for epoch in range(50):\n",
    "    loss, accuracy = train_one_step(model, optimizer, \n",
    "                                    tf.constant(train_data[0], dtype=tf.float32), \n",
    "                                    tf.constant(train_data[1], dtype=tf.int64))\n",
    "    print('epoch', epoch, ': loss', loss.numpy(), '; accuracy', accuracy.numpy())\n",
    "loss, accuracy = test(model, \n",
    "                      tf.constant(test_data[0], dtype=tf.float32), \n",
    "                      tf.constant(test_data[1], dtype=tf.int64))\n",
    "\n",
    "print('test loss', loss.numpy(), '; accuracy', accuracy.numpy())"
   ]
  }
 ],
 "metadata": {
  "kernelspec": {
   "display_name": "pytorch4",
   "language": "python",
   "name": "python3"
  },
  "language_info": {
   "codemirror_mode": {
    "name": "ipython",
    "version": 3
   },
   "file_extension": ".py",
   "mimetype": "text/x-python",
   "name": "python",
   "nbconvert_exporter": "python",
   "pygments_lexer": "ipython3",
   "version": "3.9.18"
  }
 },
 "nbformat": 4,
 "nbformat_minor": 2
}
